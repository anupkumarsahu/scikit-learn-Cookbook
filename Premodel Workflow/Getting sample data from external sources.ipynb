{
 "cells": [
  {
   "cell_type": "code",
   "execution_count": 1,
   "metadata": {},
   "outputs": [],
   "source": [
    "# get the numpy arange docstring\n",
    "import numpy as np"
   ]
  },
  {
   "cell_type": "code",
   "execution_count": 2,
   "metadata": {},
   "outputs": [],
   "source": [
    "import pandas as pd"
   ]
  },
  {
   "cell_type": "code",
   "execution_count": 3,
   "metadata": {},
   "outputs": [],
   "source": [
    "%load_ext version_information"
   ]
  },
  {
   "cell_type": "code",
   "execution_count": 4,
   "metadata": {},
   "outputs": [
    {
     "data": {
      "application/json": {
       "Software versions": [
        {
         "module": "Python",
         "version": "3.6.2 32bit [MSC v.1900 32 bit (Intel)]"
        },
        {
         "module": "IPython",
         "version": "6.5.0"
        },
        {
         "module": "OS",
         "version": "Windows 10 10.0.16299 SP0"
        },
        {
         "module": "requests",
         "version": "2.19.1"
        },
        {
         "module": "numpy",
         "version": "1.14.5"
        },
        {
         "module": "pandas",
         "version": "0.23.1"
        },
        {
         "module": "matplotlib",
         "version": "2.2.2"
        },
        {
         "module": "seaborn",
         "version": "0.9.0"
        },
        {
         "module": "sklearn",
         "version": "0.19.1"
        }
       ]
      },
      "text/html": [
       "<table><tr><th>Software</th><th>Version</th></tr><tr><td>Python</td><td>3.6.2 32bit [MSC v.1900 32 bit (Intel)]</td></tr><tr><td>IPython</td><td>6.5.0</td></tr><tr><td>OS</td><td>Windows 10 10.0.16299 SP0</td></tr><tr><td>requests</td><td>2.19.1</td></tr><tr><td>numpy</td><td>1.14.5</td></tr><tr><td>pandas</td><td>0.23.1</td></tr><tr><td>matplotlib</td><td>2.2.2</td></tr><tr><td>seaborn</td><td>0.9.0</td></tr><tr><td>sklearn</td><td>0.19.1</td></tr><tr><td colspan='2'>Tue Mar 19 19:09:50 2019 India Standard Time</td></tr></table>"
      ],
      "text/latex": [
       "\\begin{tabular}{|l|l|}\\hline\n",
       "{\\bf Software} & {\\bf Version} \\\\ \\hline\\hline\n",
       "Python & 3.6.2 32bit [MSC v.1900 32 bit (Intel)] \\\\ \\hline\n",
       "IPython & 6.5.0 \\\\ \\hline\n",
       "OS & Windows 10 10.0.16299 SP0 \\\\ \\hline\n",
       "requests & 2.19.1 \\\\ \\hline\n",
       "numpy & 1.14.5 \\\\ \\hline\n",
       "pandas & 0.23.1 \\\\ \\hline\n",
       "matplotlib & 2.2.2 \\\\ \\hline\n",
       "seaborn & 0.9.0 \\\\ \\hline\n",
       "sklearn & 0.19.1 \\\\ \\hline\n",
       "\\hline \\multicolumn{2}{|l|}{Tue Mar 19 19:09:50 2019 India Standard Time} \\\\ \\hline\n",
       "\\end{tabular}\n"
      ],
      "text/plain": [
       "Software versions\n",
       "Python 3.6.2 32bit [MSC v.1900 32 bit (Intel)]\n",
       "IPython 6.5.0\n",
       "OS Windows 10 10.0.16299 SP0\n",
       "requests 2.19.1\n",
       "numpy 1.14.5\n",
       "pandas 0.23.1\n",
       "matplotlib 2.2.2\n",
       "seaborn 0.9.0\n",
       "sklearn 0.19.1\n",
       "Tue Mar 19 19:09:50 2019 India Standard Time"
      ]
     },
     "execution_count": 4,
     "metadata": {},
     "output_type": "execute_result"
    }
   ],
   "source": [
    "%version_information requests, numpy, pandas, matplotlib, seaborn, sklearn"
   ]
  },
  {
   "cell_type": "code",
   "execution_count": 5,
   "metadata": {},
   "outputs": [
    {
     "data": {
      "application/json": {
       "Software versions": [
        {
         "module": "Python",
         "version": "3.6.2 32bit [MSC v.1900 32 bit (Intel)]"
        },
        {
         "module": "IPython",
         "version": "6.5.0"
        },
        {
         "module": "OS",
         "version": "Windows 10 10.0.16299 SP0"
        },
        {
         "module": "requests",
         "version": "2.19.1"
        },
        {
         "module": "numpy",
         "version": "1.14.5"
        },
        {
         "module": "scipy",
         "version": "1.1.0"
        },
        {
         "module": "scikit-learn",
         "version": "0.19.1"
        },
        {
         "module": "matplotlib",
         "version": "2.2.2"
        },
        {
         "module": "pandas",
         "version": "0.23.1"
        },
        {
         "module": "pillow",
         "version": "5.2.0"
        },
        {
         "module": "graphviz",
         "version": "0.8.4"
        },
        {
         "module": "selenium",
         "version": "3.13.0"
        },
        {
         "module": "beautifulsoup4",
         "version": "4.6.0"
        },
        {
         "module": "seaborn",
         "version": "0.9.0"
        },
        {
         "module": "bokeh",
         "version": "0.13.0"
        },
        {
         "module": "ipython",
         "version": "6.5.0"
        },
        {
         "module": "version_information",
         "version": "1.0.3"
        },
        {
         "module": "ipython-sql",
         "version": "0.3.9"
        },
        {
         "module": "pdir2",
         "version": "0.3.0"
        },
        {
         "module": "graphviz",
         "version": "0.8.4"
        }
       ]
      },
      "text/html": [
       "<table><tr><th>Software</th><th>Version</th></tr><tr><td>Python</td><td>3.6.2 32bit [MSC v.1900 32 bit (Intel)]</td></tr><tr><td>IPython</td><td>6.5.0</td></tr><tr><td>OS</td><td>Windows 10 10.0.16299 SP0</td></tr><tr><td>requests</td><td>2.19.1</td></tr><tr><td>numpy</td><td>1.14.5</td></tr><tr><td>scipy</td><td>1.1.0</td></tr><tr><td>scikit-learn</td><td>0.19.1</td></tr><tr><td>matplotlib</td><td>2.2.2</td></tr><tr><td>pandas</td><td>0.23.1</td></tr><tr><td>pillow</td><td>5.2.0</td></tr><tr><td>graphviz</td><td>0.8.4</td></tr><tr><td>selenium</td><td>3.13.0</td></tr><tr><td>beautifulsoup4</td><td>4.6.0</td></tr><tr><td>seaborn</td><td>0.9.0</td></tr><tr><td>bokeh</td><td>0.13.0</td></tr><tr><td>ipython</td><td>6.5.0</td></tr><tr><td>version_information</td><td>1.0.3</td></tr><tr><td>ipython-sql</td><td>0.3.9</td></tr><tr><td>pdir2</td><td>0.3.0</td></tr><tr><td>graphviz</td><td>0.8.4</td></tr><tr><td colspan='2'>Tue Mar 19 19:09:51 2019 India Standard Time</td></tr></table>"
      ],
      "text/latex": [
       "\\begin{tabular}{|l|l|}\\hline\n",
       "{\\bf Software} & {\\bf Version} \\\\ \\hline\\hline\n",
       "Python & 3.6.2 32bit [MSC v.1900 32 bit (Intel)] \\\\ \\hline\n",
       "IPython & 6.5.0 \\\\ \\hline\n",
       "OS & Windows 10 10.0.16299 SP0 \\\\ \\hline\n",
       "requests & 2.19.1 \\\\ \\hline\n",
       "numpy & 1.14.5 \\\\ \\hline\n",
       "scipy & 1.1.0 \\\\ \\hline\n",
       "scikit-learn & 0.19.1 \\\\ \\hline\n",
       "matplotlib & 2.2.2 \\\\ \\hline\n",
       "pandas & 0.23.1 \\\\ \\hline\n",
       "pillow & 5.2.0 \\\\ \\hline\n",
       "graphviz & 0.8.4 \\\\ \\hline\n",
       "selenium & 3.13.0 \\\\ \\hline\n",
       "beautifulsoup4 & 4.6.0 \\\\ \\hline\n",
       "seaborn & 0.9.0 \\\\ \\hline\n",
       "bokeh & 0.13.0 \\\\ \\hline\n",
       "ipython & 6.5.0 \\\\ \\hline\n",
       "version_information & 1.0.3 \\\\ \\hline\n",
       "ipython-sql & 0.3.9 \\\\ \\hline\n",
       "pdir2 & 0.3.0 \\\\ \\hline\n",
       "graphviz & 0.8.4 \\\\ \\hline\n",
       "\\hline \\multicolumn{2}{|l|}{Tue Mar 19 19:09:51 2019 India Standard Time} \\\\ \\hline\n",
       "\\end{tabular}\n"
      ],
      "text/plain": [
       "Software versions\n",
       "Python 3.6.2 32bit [MSC v.1900 32 bit (Intel)]\n",
       "IPython 6.5.0\n",
       "OS Windows 10 10.0.16299 SP0\n",
       "requests 2.19.1\n",
       "numpy 1.14.5\n",
       "scipy 1.1.0\n",
       "scikit-learn 0.19.1\n",
       "matplotlib 2.2.2\n",
       "pandas 0.23.1\n",
       "pillow 5.2.0\n",
       "graphviz 0.8.4\n",
       "selenium 3.13.0\n",
       "beautifulsoup4 4.6.0\n",
       "seaborn 0.9.0\n",
       "bokeh 0.13.0\n",
       "ipython 6.5.0\n",
       "version_information 1.0.3\n",
       "ipython-sql 0.3.9\n",
       "pdir2 0.3.0\n",
       "graphviz 0.8.4\n",
       "Tue Mar 19 19:09:51 2019 India Standard Time"
      ]
     },
     "execution_count": 5,
     "metadata": {},
     "output_type": "execute_result"
    }
   ],
   "source": [
    "%version_information requests, numpy, scipy, scikit-learn, matplotlib, pandas, pillow, graphviz, selenium, beautifulsoup4, seaborn, bokeh, ipython, version_information, ipython-sql, pdir2, graphviz"
   ]
  },
  {
   "cell_type": "code",
   "execution_count": 6,
   "metadata": {},
   "outputs": [],
   "source": [
    "# Common standard libraries\n",
    "\n",
    "import datetime\n",
    "import time\n",
    "import os"
   ]
  },
  {
   "cell_type": "code",
   "execution_count": 7,
   "metadata": {},
   "outputs": [],
   "source": [
    "# Common external libraries\n",
    "\n",
    "import pandas as pd\n",
    "import numpy as np\n",
    "import sklearn # scikit-learn\n",
    "import requests\n",
    "from bs4 import BeautifulSoup"
   ]
  },
  {
   "cell_type": "code",
   "execution_count": 8,
   "metadata": {},
   "outputs": [],
   "source": [
    "# Visualization libraries\n",
    "\n",
    "%matplotlib inline\n",
    "import matplotlib.pyplot as plt\n",
    "import seaborn as sns"
   ]
  },
  {
   "cell_type": "code",
   "execution_count": 9,
   "metadata": {},
   "outputs": [],
   "source": [
    "from sklearn import datasets"
   ]
  },
  {
   "cell_type": "code",
   "execution_count": 10,
   "metadata": {},
   "outputs": [],
   "source": [
    "boston = datasets.load_boston()"
   ]
  },
  {
   "cell_type": "code",
   "execution_count": 11,
   "metadata": {},
   "outputs": [
    {
     "data": {
      "text/plain": [
       "sklearn.utils.Bunch"
      ]
     },
     "execution_count": 11,
     "metadata": {},
     "output_type": "execute_result"
    }
   ],
   "source": [
    "type(boston)"
   ]
  },
  {
   "cell_type": "code",
   "execution_count": 12,
   "metadata": {},
   "outputs": [
    {
     "name": "stdout",
     "output_type": "stream",
     "text": [
      "Boston House Prices dataset\n",
      "===========================\n",
      "\n",
      "Notes\n",
      "------\n",
      "Data Set Characteristics:  \n",
      "\n",
      "    :Number of Instances: 506 \n",
      "\n",
      "    :Number of Attributes: 13 numeric/categorical predictive\n",
      "    \n",
      "    :Median Value (attribute 14) is usually the target\n",
      "\n",
      "    :Attribute Information (in order):\n",
      "        - CRIM     per capita crime rate by town\n",
      "        - ZN       proportion of residential land zoned for lots over 25,000 sq.ft.\n",
      "        - INDUS    proportion of non-retail business acres per town\n",
      "        - CHAS     Charles River dummy variable (= 1 if tract bounds river; 0 otherwise)\n",
      "        - NOX      nitric oxides concentration (parts per 10 million)\n",
      "        - RM       average number of rooms per dwelling\n",
      "        - AGE      proportion of owner-occupied units built prior to 1940\n",
      "        - DIS      weighted distances to five Boston employment centres\n",
      "        - RAD      index of accessibility to radial highways\n",
      "        - TAX      full-value property-tax rate per $10,000\n",
      "        - PTRATIO  pupil-teacher ratio by town\n",
      "        - B        1000(Bk - 0.63)^2 where Bk is the proportion of blacks by town\n",
      "        - LSTAT    % lower status of the population\n",
      "        - MEDV     Median value of owner-occupied homes in $1000's\n",
      "\n",
      "    :Missing Attribute Values: None\n",
      "\n",
      "    :Creator: Harrison, D. and Rubinfeld, D.L.\n",
      "\n",
      "This is a copy of UCI ML housing dataset.\n",
      "http://archive.ics.uci.edu/ml/datasets/Housing\n",
      "\n",
      "\n",
      "This dataset was taken from the StatLib library which is maintained at Carnegie Mellon University.\n",
      "\n",
      "The Boston house-price data of Harrison, D. and Rubinfeld, D.L. 'Hedonic\n",
      "prices and the demand for clean air', J. Environ. Economics & Management,\n",
      "vol.5, 81-102, 1978.   Used in Belsley, Kuh & Welsch, 'Regression diagnostics\n",
      "...', Wiley, 1980.   N.B. Various transformations are used in the table on\n",
      "pages 244-261 of the latter.\n",
      "\n",
      "The Boston house-price data has been used in many machine learning papers that address regression\n",
      "problems.   \n",
      "     \n",
      "**References**\n",
      "\n",
      "   - Belsley, Kuh & Welsch, 'Regression diagnostics: Identifying Influential Data and Sources of Collinearity', Wiley, 1980. 244-261.\n",
      "   - Quinlan,R. (1993). Combining Instance-Based and Model-Based Learning. In Proceedings on the Tenth International Conference of Machine Learning, 236-243, University of Massachusetts, Amherst. Morgan Kaufmann.\n",
      "   - many more! (see http://archive.ics.uci.edu/ml/datasets/Housing)\n",
      "\n"
     ]
    }
   ],
   "source": [
    "print (boston.DESCR) #output omitted due to length"
   ]
  },
  {
   "cell_type": "code",
   "execution_count": 13,
   "metadata": {},
   "outputs": [],
   "source": [
    "X, y = boston.data, boston.target"
   ]
  },
  {
   "cell_type": "code",
   "execution_count": 14,
   "metadata": {},
   "outputs": [],
   "source": [
    "from sklearn import preprocessing"
   ]
  },
  {
   "cell_type": "code",
   "execution_count": 15,
   "metadata": {},
   "outputs": [
    {
     "data": {
      "text/plain": [
       "array([ 3.59376071, 11.36363636, 11.13677866])"
      ]
     },
     "execution_count": 15,
     "metadata": {},
     "output_type": "execute_result"
    }
   ],
   "source": [
    "X[:, :3].mean(axis=0) # mean of first 3 feature"
   ]
  },
  {
   "cell_type": "code",
   "execution_count": 16,
   "metadata": {},
   "outputs": [
    {
     "data": {
      "text/plain": [
       "array([ 8.58828355, 23.29939569,  6.85357058])"
      ]
     },
     "execution_count": 16,
     "metadata": {},
     "output_type": "execute_result"
    }
   ],
   "source": [
    "X[:, :3].std(axis=0)"
   ]
  },
  {
   "cell_type": "code",
   "execution_count": 17,
   "metadata": {},
   "outputs": [],
   "source": [
    "X_2 = preprocessing.scale(X[:, :3])"
   ]
  },
  {
   "cell_type": "code",
   "execution_count": 18,
   "metadata": {},
   "outputs": [
    {
     "data": {
      "text/plain": [
       "array([ 6.34099712e-17, -6.34319123e-16, -2.68291099e-15])"
      ]
     },
     "execution_count": 18,
     "metadata": {},
     "output_type": "execute_result"
    }
   ],
   "source": [
    "X_2.mean(axis=0)"
   ]
  },
  {
   "cell_type": "code",
   "execution_count": 19,
   "metadata": {},
   "outputs": [
    {
     "data": {
      "text/plain": [
       "array([1., 1., 1.])"
      ]
     },
     "execution_count": 19,
     "metadata": {},
     "output_type": "execute_result"
    }
   ],
   "source": [
    "X_2.std(axis=0)"
   ]
  },
  {
   "cell_type": "code",
   "execution_count": null,
   "metadata": {},
   "outputs": [],
   "source": []
  }
 ],
 "metadata": {
  "kernelspec": {
   "display_name": "Python 3",
   "language": "python",
   "name": "python3"
  },
  "language_info": {
   "codemirror_mode": {
    "name": "ipython",
    "version": 3
   },
   "file_extension": ".py",
   "mimetype": "text/x-python",
   "name": "python",
   "nbconvert_exporter": "python",
   "pygments_lexer": "ipython3",
   "version": "3.6.2"
  }
 },
 "nbformat": 4,
 "nbformat_minor": 2
}
